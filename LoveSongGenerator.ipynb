{
  "nbformat": 4,
  "nbformat_minor": 0,
  "metadata": {
    "kernelspec": {
      "name": "python3",
      "display_name": "Python 3"
    },
    "language_info": {
      "codemirror_mode": {
        "name": "ipython",
        "version": 3
      },
      "file_extension": ".py",
      "mimetype": "text/x-python",
      "name": "python",
      "nbconvert_exporter": "python",
      "pygments_lexer": "ipython3",
      "version": "3.7.4"
    },
    "colab": {
      "name": "LoveSongGenerator.ipynb",
      "provenance": [],
      "collapsed_sections": []
    },
    "accelerator": "GPU"
  },
  "cells": [
    {
      "cell_type": "markdown",
      "metadata": {
        "id": "HB44hqCrbjo-",
        "colab_type": "text"
      },
      "source": [
        "# Character-Level LSTM in PyTorch\n",
        "\n",
        "In this notebook, I'll construct a character-level LSTM with PyTorch. The network will train character by character on some text, then generate new text character by character. As an example, I will train on Anna Karenina. **This model will be able to generate new text based on the text from the book!**\n",
        "\n",
        "This network is based off of Andrej Karpathy's [post on RNNs](http://karpathy.github.io/2015/05/21/rnn-effectiveness/) and [implementation in Torch](https://github.com/karpathy/char-rnn). Below is the general architecture of the character-wise RNN.\n",
        "\n",
        "<img src=\"assets/charseq.jpeg\" width=\"500\">"
      ]
    },
    {
      "cell_type": "markdown",
      "metadata": {
        "id": "zy7dkMCzbjpC",
        "colab_type": "text"
      },
      "source": [
        "First let's load in our required resources for data loading and model creation."
      ]
    },
    {
      "cell_type": "code",
      "metadata": {
        "id": "PdiuZypLbjpE",
        "colab_type": "code",
        "colab": {}
      },
      "source": [
        "import numpy as np\n",
        "import torch\n",
        "from torch import nn\n",
        "import torch.nn.functional as F"
      ],
      "execution_count": 0,
      "outputs": []
    },
    {
      "cell_type": "markdown",
      "metadata": {
        "id": "sB7onZQzbjpK",
        "colab_type": "text"
      },
      "source": [
        "## Load in Data\n",
        "\n",
        "Then, we'll load the Anna Karenina text file and convert it into integers for our network to use. "
      ]
    },
    {
      "cell_type": "code",
      "metadata": {
        "id": "I4ejs276bjpM",
        "colab_type": "code",
        "colab": {}
      },
      "source": [
        "# open text file and read in data as `text`\n",
        "with open('test1.txt', 'r') as f:\n",
        "    text = f.read()"
      ],
      "execution_count": 0,
      "outputs": []
    },
    {
      "cell_type": "markdown",
      "metadata": {
        "id": "ZedjxGtObjpQ",
        "colab_type": "text"
      },
      "source": [
        "Let's check out the first 100 characters, make sure everything is peachy. According to the [American Book Review](http://americanbookreview.org/100bestlines.asp), this is the 6th best first line of a book ever."
      ]
    },
    {
      "cell_type": "code",
      "metadata": {
        "id": "jVE4blIFbjpS",
        "colab_type": "code",
        "colab": {
          "base_uri": "https://localhost:8080/",
          "height": 34
        },
        "outputId": "ceb223ec-41e6-4b34-8b6d-2510a0fd3ed1"
      },
      "source": [
        "text[:100]"
      ],
      "execution_count": 46,
      "outputs": [
        {
          "output_type": "execute_result",
          "data": {
            "text/plain": [
              "\"Doesn't take much to make me happy\\nAnd make me smile with glee \\nNever never will I feel discouraged \""
            ]
          },
          "metadata": {
            "tags": []
          },
          "execution_count": 46
        }
      ]
    },
    {
      "cell_type": "markdown",
      "metadata": {
        "id": "FjG_7kDGbjpY",
        "colab_type": "text"
      },
      "source": [
        "### Tokenization\n",
        "\n",
        "In the cells, below, I'm creating a couple **dictionaries** to convert the characters to and from integers. Encoding the characters as integers makes it easier to use as input in the network."
      ]
    },
    {
      "cell_type": "code",
      "metadata": {
        "id": "Kc89PJqZbjpZ",
        "colab_type": "code",
        "colab": {}
      },
      "source": [
        "# encode the text and map each character to an integer and vice versa\n",
        "\n",
        "# we create two dictionaries:\n",
        "# 1. int2char, which maps integers to characters\n",
        "# 2. char2int, which maps characters to unique integers\n",
        "chars = tuple(set(text))\n",
        "int2char = dict(enumerate(chars))\n",
        "char2int = {ch: ii for ii, ch in int2char.items()}\n",
        "\n",
        "# encode the text\n",
        "encoded = np.array([char2int[ch] for ch in text])"
      ],
      "execution_count": 0,
      "outputs": []
    },
    {
      "cell_type": "markdown",
      "metadata": {
        "id": "z94k5w8Pbjpe",
        "colab_type": "text"
      },
      "source": [
        "And we can see those same characters from above, encoded as integers."
      ]
    },
    {
      "cell_type": "code",
      "metadata": {
        "id": "S2Yy2Xexbjpg",
        "colab_type": "code",
        "colab": {
          "base_uri": "https://localhost:8080/",
          "height": 119
        },
        "outputId": "d0275790-aacf-48d9-f03f-ea2a6c8a4cdc"
      },
      "source": [
        "encoded[:100]"
      ],
      "execution_count": 5,
      "outputs": [
        {
          "output_type": "execute_result",
          "data": {
            "text/plain": [
              "array([80, 14, 52, 70, 60, 18, 75, 16, 75, 33, 21, 52, 16, 95, 26, 34, 65,\n",
              "       16, 75, 14, 16, 95, 33, 21, 52, 16, 95, 52, 16, 65, 33, 36, 36, 41,\n",
              "       88, 67, 60, 90, 16, 95, 33, 21, 52, 16, 95, 52, 16, 70, 95, 51, 82,\n",
              "       52, 16, 11, 51, 75, 65, 16, 12, 82, 52, 52, 16, 88, 30, 52, 77, 52,\n",
              "       29, 16, 60, 52, 77, 52, 29, 16, 11, 51, 82, 82, 16, 93, 16, 42, 52,\n",
              "       52, 82, 16, 90, 51, 70, 34, 14, 26, 29, 33, 12, 52, 90, 16])"
            ]
          },
          "metadata": {
            "tags": []
          },
          "execution_count": 5
        }
      ]
    },
    {
      "cell_type": "markdown",
      "metadata": {
        "id": "I6zF0RjFbjpk",
        "colab_type": "text"
      },
      "source": [
        "## Pre-processing the data\n",
        "\n",
        "As you can see in our char-RNN image above, our LSTM expects an input that is **one-hot encoded** meaning that each character is converted into an integer (via our created dictionary) and *then* converted into a column vector where only it's corresponding integer index will have the value of 1 and the rest of the vector will be filled with 0's. Since we're one-hot encoding the data, let's make a function to do that!\n"
      ]
    },
    {
      "cell_type": "code",
      "metadata": {
        "id": "EKkB5W68bjpm",
        "colab_type": "code",
        "colab": {}
      },
      "source": [
        "def one_hot_encode(arr, n_labels):\n",
        "    \n",
        "    # Initialize the the encoded array\n",
        "    one_hot = np.zeros((arr.size, n_labels), dtype=np.float32)\n",
        "    \n",
        "    # Fill the appropriate elements with ones\n",
        "    one_hot[np.arange(one_hot.shape[0]), arr.flatten()] = 1.\n",
        "    \n",
        "    # Finally reshape it to get back to the original array\n",
        "    one_hot = one_hot.reshape((*arr.shape, n_labels))\n",
        "    \n",
        "    return one_hot"
      ],
      "execution_count": 0,
      "outputs": []
    },
    {
      "cell_type": "code",
      "metadata": {
        "id": "NmL8PwEGbjpr",
        "colab_type": "code",
        "colab": {
          "base_uri": "https://localhost:8080/",
          "height": 68
        },
        "outputId": "7959dd88-2ad2-4dae-d858-dc77d0957e7f"
      },
      "source": [
        "# check that the function works as expected\n",
        "test_seq = np.array([[3, 5, 1]])\n",
        "one_hot = one_hot_encode(test_seq, 8)\n",
        "\n",
        "print(one_hot)"
      ],
      "execution_count": 7,
      "outputs": [
        {
          "output_type": "stream",
          "text": [
            "[[[0. 0. 0. 1. 0. 0. 0. 0.]\n",
            "  [0. 0. 0. 0. 0. 1. 0. 0.]\n",
            "  [0. 1. 0. 0. 0. 0. 0. 0.]]]\n"
          ],
          "name": "stdout"
        }
      ]
    },
    {
      "cell_type": "markdown",
      "metadata": {
        "id": "o1R1o_E1bjpv",
        "colab_type": "text"
      },
      "source": [
        "## Making training mini-batches\n",
        "\n",
        "\n",
        "To train on this data, we also want to create mini-batches for training. Remember that we want our batches to be multiple sequences of some desired number of sequence steps. Considering a simple example, our batches would look like this:\n",
        "\n",
        "<img src=\"assets/sequence_batching@1x.png\" width=500px>\n",
        "\n",
        "\n",
        "<br>\n",
        "\n",
        "In this example, we'll take the encoded characters (passed in as the `arr` parameter) and split them into multiple sequences, given by `batch_size`. Each of our sequences will be `seq_length` long.\n",
        "\n",
        "### Creating Batches\n",
        "\n",
        "**1. The first thing we need to do is discard some of the text so we only have completely full mini-batches. **\n",
        "\n",
        "Each batch contains $N \\times M$ characters, where $N$ is the batch size (the number of sequences in a batch) and $M$ is the seq_length or number of time steps in a sequence. Then, to get the total number of batches, $K$, that we can make from the array `arr`, you divide the length of `arr` by the number of characters per batch. Once you know the number of batches, you can get the total number of characters to keep from `arr`, $N * M * K$.\n",
        "\n",
        "**2. After that, we need to split `arr` into $N$ batches. ** \n",
        "\n",
        "You can do this using `arr.reshape(size)` where `size` is a tuple containing the dimensions sizes of the reshaped array. We know we want $N$ sequences in a batch, so let's make that the size of the first dimension. For the second dimension, you can use `-1` as a placeholder in the size, it'll fill up the array with the appropriate data for you. After this, you should have an array that is $N \\times (M * K)$.\n",
        "\n",
        "**3. Now that we have this array, we can iterate through it to get our mini-batches. **\n",
        "\n",
        "The idea is each batch is a $N \\times M$ window on the $N \\times (M * K)$ array. For each subsequent batch, the window moves over by `seq_length`. We also want to create both the input and target arrays. Remember that the targets are just the inputs shifted over by one character. The way I like to do this window is use `range` to take steps of size `n_steps` from $0$ to `arr.shape[1]`, the total number of tokens in each sequence. That way, the integers you get from `range` always point to the start of a batch, and each window is `seq_length` wide.\n",
        "\n",
        "> **TODO:** Write the code for creating batches in the function below. The exercises in this notebook _will not be easy_. I've provided a notebook with solutions alongside this notebook. If you get stuck, checkout the solutions. The most important thing is that you don't copy and paste the code into here, **type out the solution code yourself.**"
      ]
    },
    {
      "cell_type": "code",
      "metadata": {
        "id": "NBGmQS5Vbjpx",
        "colab_type": "code",
        "colab": {}
      },
      "source": [
        "def get_batches(arr, batch_size, seq_length):\n",
        "    '''Create a generator that returns batches of size\n",
        "       batch_size x seq_length from arr.\n",
        "       \n",
        "       Arguments\n",
        "       ---------\n",
        "       arr: Array you want to make batches from\n",
        "       batch_size: Batch size, the number of sequences per batch\n",
        "       seq_length: Number of encoded chars in a sequence\n",
        "    '''\n",
        "    total_batch_size = batch_size*seq_length\n",
        "    ## TODO: Get the number of batches we can make\n",
        "    n_batches = len(arr)//total_batch_size\n",
        "    \n",
        "    ## TODO: Keep only enough characters to make full batches\n",
        "    arr = arr[:n_batches*total_batch_size]\n",
        "    \n",
        "    ## TODO: Reshape into batch_size rows\n",
        "    arr = arr.reshape((batch_size, -1))\n",
        "    \n",
        "    ## TODO: Iterate over the batches using a window of size seq_length\n",
        "    for n in range(0, arr.shape[1], seq_length):\n",
        "        # The features\n",
        "        x = arr[:, n:n+seq_length]\n",
        "        # The targets, shifted by one\n",
        "        y = np.zeros_like(x)\n",
        "        try:\n",
        "            y[:, :-1], y[:, -1] = x[:, 1:], arr[:, n+seq_length]\n",
        "        except IndexError:\n",
        "            y[:, :-1], y[:, -1] = x[:, 1:], arr[:, 0]\n",
        "        yield x, y"
      ],
      "execution_count": 0,
      "outputs": []
    },
    {
      "cell_type": "markdown",
      "metadata": {
        "id": "ABbmhcEHbjp1",
        "colab_type": "text"
      },
      "source": [
        "### Test Your Implementation\n",
        "\n",
        "Now I'll make some data sets and we can check out what's going on as we batch data. Here, as an example, I'm going to use a batch size of 8 and 50 sequence steps."
      ]
    },
    {
      "cell_type": "code",
      "metadata": {
        "id": "0sJwKxwMbjp2",
        "colab_type": "code",
        "colab": {}
      },
      "source": [
        "batches = get_batches(encoded, 8, 50)\n",
        "x, y = next(batches)"
      ],
      "execution_count": 0,
      "outputs": []
    },
    {
      "cell_type": "code",
      "metadata": {
        "id": "MIfybBoNbjp7",
        "colab_type": "code",
        "colab": {
          "base_uri": "https://localhost:8080/",
          "height": 340
        },
        "outputId": "a6c6cbb8-7336-495c-d31c-b8c90c0458d0"
      },
      "source": [
        "# printing out the first 10 items in a sequence\n",
        "print('x\\n', x[:10, :10])\n",
        "print('\\ny\\n', y[:10, :10])"
      ],
      "execution_count": 10,
      "outputs": [
        {
          "output_type": "stream",
          "text": [
            "x\n",
            " [[80 14 52 70 60 18 75 16 75 33]\n",
            " [26 88 47 14 29 52 16 52 33 34]\n",
            " [88 93 18 95 16 75 33 82 21 51]\n",
            " [52 16 43 26 70 75 16 75 65 52]\n",
            " [51 82 70 44 16 33 60 41 75 51]\n",
            " [36 16 33 16 95 14 26 60 75 33]\n",
            " [36 29 14 95 51 70 52 16 41 14]\n",
            " [29 16 65 52 33 29 75  0 88 30]]\n",
            "\n",
            "y\n",
            " [[14 52 70 60 18 75 16 75 33 21]\n",
            " [88 47 14 29 52 16 52 33 34 65]\n",
            " [93 18 95 16 75 33 82 21 51 60]\n",
            " [16 43 26 70 75 16 75 65 52 16]\n",
            " [82 70 44 16 33 60 41 75 51 95]\n",
            " [16 33 16 95 14 26 60 75 33 51]\n",
            " [29 14 95 51 70 52 16 41 14 26]\n",
            " [16 65 52 33 29 75  0 88 30 14]]\n"
          ],
          "name": "stdout"
        }
      ]
    },
    {
      "cell_type": "markdown",
      "metadata": {
        "id": "NCQtBZUBbjqA",
        "colab_type": "text"
      },
      "source": [
        "If you implemented `get_batches` correctly, the above output should look something like \n",
        "```\n",
        "x\n",
        " [[25  8 60 11 45 27 28 73  1  2]\n",
        " [17  7 20 73 45  8 60 45 73 60]\n",
        " [27 20 80 73  7 28 73 60 73 65]\n",
        " [17 73 45  8 27 73 66  8 46 27]\n",
        " [73 17 60 12 73  8 27 28 73 45]\n",
        " [66 64 17 17 46  7 20 73 60 20]\n",
        " [73 76 20 20 60 73  8 60 80 73]\n",
        " [47 35 43  7 20 17 24 50 37 73]]\n",
        "\n",
        "y\n",
        " [[ 8 60 11 45 27 28 73  1  2  2]\n",
        " [ 7 20 73 45  8 60 45 73 60 45]\n",
        " [20 80 73  7 28 73 60 73 65  7]\n",
        " [73 45  8 27 73 66  8 46 27 65]\n",
        " [17 60 12 73  8 27 28 73 45 27]\n",
        " [64 17 17 46  7 20 73 60 20 80]\n",
        " [76 20 20 60 73  8 60 80 73 17]\n",
        " [35 43  7 20 17 24 50 37 73 36]]\n",
        " ```\n",
        " although the exact numbers may be different. Check to make sure the data is shifted over one step for `y`."
      ]
    },
    {
      "cell_type": "markdown",
      "metadata": {
        "id": "BSgjcFERbjqB",
        "colab_type": "text"
      },
      "source": [
        "---\n",
        "## Defining the network with PyTorch\n",
        "\n",
        "Below is where you'll define the network.\n",
        "\n",
        "<img src=\"assets/charRNN.png\" width=500px>\n",
        "\n",
        "Next, you'll use PyTorch to define the architecture of the network. We start by defining the layers and operations we want. Then, define a method for the forward pass. You've also been given a method for predicting characters."
      ]
    },
    {
      "cell_type": "markdown",
      "metadata": {
        "id": "n6VWORHubjqD",
        "colab_type": "text"
      },
      "source": [
        "### Model Structure\n",
        "\n",
        "In `__init__` the suggested structure is as follows:\n",
        "* Create and store the necessary dictionaries (this has been done for you)\n",
        "* Define an LSTM layer that takes as params: an input size (the number of characters), a hidden layer size `n_hidden`, a number of layers `n_layers`, a dropout probability `drop_prob`, and a batch_first boolean (True, since we are batching)\n",
        "* Define a dropout layer with `drop_prob`\n",
        "* Define a fully-connected layer with params: input size `n_hidden` and output size (the number of characters)\n",
        "* Finally, initialize the weights (again, this has been given)\n",
        "\n",
        "Note that some parameters have been named and given in the `__init__` function, and we use them and store them by doing something like `self.drop_prob = drop_prob`."
      ]
    },
    {
      "cell_type": "markdown",
      "metadata": {
        "id": "BQtHYZVLbjqE",
        "colab_type": "text"
      },
      "source": [
        "---\n",
        "### LSTM Inputs/Outputs\n",
        "\n",
        "You can create a basic [LSTM layer](https://pytorch.org/docs/stable/nn.html#lstm) as follows\n",
        "\n",
        "```python\n",
        "self.lstm = nn.LSTM(input_size, n_hidden, n_layers, \n",
        "                            dropout=drop_prob, batch_first=True)\n",
        "```\n",
        "\n",
        "where `input_size` is the number of characters this cell expects to see as sequential input, and `n_hidden` is the number of units in the hidden layers in the cell. And we can add dropout by adding a dropout parameter with a specified probability; this will automatically add dropout to the inputs or outputs. Finally, in the `forward` function, we can stack up the LSTM cells into layers using `.view`. With this, you pass in a list of cells and it will send the output of one cell into the next cell.\n",
        "\n",
        "We also need to create an initial hidden state of all zeros. This is done like so\n",
        "\n",
        "```python\n",
        "self.init_hidden()\n",
        "```"
      ]
    },
    {
      "cell_type": "code",
      "metadata": {
        "id": "pLpTTVbJbjqF",
        "colab_type": "code",
        "colab": {
          "base_uri": "https://localhost:8080/",
          "height": 34
        },
        "outputId": "5c1435bd-8ef8-444b-9461-ceafa39ab8a9"
      },
      "source": [
        "# check if GPU is available\n",
        "train_on_gpu = torch.cuda.is_available()\n",
        "if(train_on_gpu):\n",
        "    print('Training on GPU!')\n",
        "else: \n",
        "    print('No GPU available, training on CPU; consider making n_epochs very small.')"
      ],
      "execution_count": 11,
      "outputs": [
        {
          "output_type": "stream",
          "text": [
            "Training on GPU!\n"
          ],
          "name": "stdout"
        }
      ]
    },
    {
      "cell_type": "code",
      "metadata": {
        "id": "uH93-OflbjqO",
        "colab_type": "code",
        "colab": {}
      },
      "source": [
        "class CharRNN(nn.Module):\n",
        "    \n",
        "    def __init__(self, tokens, n_hidden=256, n_layers=3,\n",
        "                               drop_prob=0.2, lr=0.005):\n",
        "        super().__init__()\n",
        "        self.drop_prob = drop_prob\n",
        "        self.n_layers = n_layers\n",
        "        self.n_hidden = n_hidden\n",
        "        self.lr = lr\n",
        "        \n",
        "        # creating character dictionaries\n",
        "        self.chars = tokens\n",
        "        self.int2char = dict(enumerate(self.chars))\n",
        "        self.char2int = {ch: ii for ii, ch in self.int2char.items()}\n",
        "        \n",
        "        ## TODO: define the layers of the model\n",
        "        self.dropout = nn.Dropout(drop_prob)\n",
        "        self.lstm = nn.LSTM(len(self.chars), n_hidden, n_layers,\n",
        "                            dropout=drop_prob, batch_first=True)\n",
        "        self.fc1 = nn.Linear(n_hidden, n_hidden//4)\n",
        "        self.fc2 = nn.Linear(n_hidden//4, n_hidden//2)\n",
        "        self.fc3 = nn.Linear(n_hidden//2, len(self.chars))\n",
        "    \n",
        "    def forward(self, x, hidden):\n",
        "        ''' Forward pass through the network. \n",
        "            These inputs are x, and the hidden/cell state `hidden`. '''\n",
        "                \n",
        "        ## TODO: Get the outputs and the new hidden state from the lstm\n",
        "        r_output, hidden = self.lstm(x, hidden)\n",
        "        out = self.dropout(r_output)\n",
        "        out = out.contiguous().view(-1, self.n_hidden)\n",
        "        out = self.fc1(out)\n",
        "        out = self.dropout(out)\n",
        "        out = self.fc2(out)\n",
        "        out = self.dropout(out)\n",
        "        out = self.fc3(out)\n",
        "        \n",
        "        # return the final output and the hidden state\n",
        "        return out, hidden\n",
        "    \n",
        "    \n",
        "    def init_hidden(self, batch_size):\n",
        "        ''' Initializes hidden state '''\n",
        "        # Create two new tensors with sizes n_layers x batch_size x n_hidden,\n",
        "        # initialized to zero, for hidden state and cell state of LSTM\n",
        "        weight = next(self.parameters()).data\n",
        "        \n",
        "        if (train_on_gpu):\n",
        "            hidden = (weight.new(self.n_layers, batch_size, self.n_hidden).zero_().cuda(),\n",
        "                  weight.new(self.n_layers, batch_size, self.n_hidden).zero_().cuda())\n",
        "        else:\n",
        "            hidden = (weight.new(self.n_layers, batch_size, self.n_hidden).zero_(),\n",
        "                      weight.new(self.n_layers, batch_size, self.n_hidden).zero_())\n",
        "        \n",
        "        return hidden\n",
        "        "
      ],
      "execution_count": 0,
      "outputs": []
    },
    {
      "cell_type": "markdown",
      "metadata": {
        "id": "nl970nhLbjqS",
        "colab_type": "text"
      },
      "source": [
        "## Time to train\n",
        "\n",
        "The train function gives us the ability to set the number of epochs, the learning rate, and other parameters.\n",
        "\n",
        "Below we're using an Adam optimizer and cross entropy loss since we are looking at character class scores as output. We calculate the loss and perform backpropagation, as usual!\n",
        "\n",
        "A couple of details about training: \n",
        ">* Within the batch loop, we detach the hidden state from its history; this time setting it equal to a new *tuple* variable because an LSTM has a hidden state that is a tuple of the hidden and cell states.\n",
        "* We use [`clip_grad_norm_`](https://pytorch.org/docs/stable/_modules/torch/nn/utils/clip_grad.html) to help prevent exploding gradients."
      ]
    },
    {
      "cell_type": "code",
      "metadata": {
        "id": "3o-o0NO6bjqT",
        "colab_type": "code",
        "colab": {}
      },
      "source": [
        "def train(net, data, epochs=10, batch_size=10, seq_length=50, lr=0.001, clip=5, val_frac=0.1, print_every=10):\n",
        "    ''' Training a network \n",
        "    \n",
        "        Arguments\n",
        "        ---------\n",
        "        \n",
        "        net: CharRNN network\n",
        "        data: text data to train the network\n",
        "        epochs: Number of epochs to train\n",
        "        batch_size: Number of mini-sequences per mini-batch, aka batch size\n",
        "        seq_length: Number of character steps per mini-batch\n",
        "        lr: learning rate\n",
        "        clip: gradient clipping\n",
        "        val_frac: Fraction of data to hold out for validation\n",
        "        print_every: Number of steps for printing training and validation loss\n",
        "    \n",
        "    '''\n",
        "    valid_loss_min = np.Inf\n",
        "\n",
        "    net.train()\n",
        "    \n",
        "    opt = torch.optim.Adam(net.parameters(), lr=lr)\n",
        "    criterion = nn.CrossEntropyLoss()\n",
        "    \n",
        "    # create training and validation data\n",
        "    val_idx = int(len(data)*(1-val_frac))\n",
        "    data, val_data = data[:val_idx], data[val_idx:]\n",
        "    \n",
        "    if(train_on_gpu):\n",
        "        net.cuda()\n",
        "    \n",
        "    counter = 0\n",
        "    n_chars = len(net.chars)\n",
        "    for e in range(epochs):\n",
        "        # initialize hidden state\n",
        "        h = net.init_hidden(batch_size)\n",
        "        \n",
        "        for x, y in get_batches(data, batch_size, seq_length):\n",
        "            counter += 1\n",
        "            \n",
        "            # One-hot encode our data and make them Torch tensors\n",
        "            x = one_hot_encode(x, n_chars)\n",
        "            inputs, targets = torch.from_numpy(x), torch.from_numpy(y)\n",
        "            \n",
        "            if(train_on_gpu):\n",
        "                inputs, targets = inputs.cuda(), targets.cuda()\n",
        "\n",
        "            # Creating new variables for the hidden state, otherwise\n",
        "            # we'd backprop through the entire training history\n",
        "            h = tuple([each.data for each in h])\n",
        "\n",
        "            # zero accumulated gradients\n",
        "            net.zero_grad()\n",
        "            \n",
        "            # get the output from the model\n",
        "            output, h = net(inputs, h)\n",
        "            \n",
        "            # calculate the loss and perform backprop\n",
        "            loss = criterion(output, targets.view(batch_size*seq_length).long())\n",
        "            loss.backward()\n",
        "            # `clip_grad_norm` helps prevent the exploding gradient problem in RNNs / LSTMs.\n",
        "            nn.utils.clip_grad_norm_(net.parameters(), clip)\n",
        "            opt.step()\n",
        "            \n",
        "            # loss stats\n",
        "            if counter % print_every == 0:\n",
        "                # Get validation loss\n",
        "                val_h = net.init_hidden(batch_size)\n",
        "                val_losses = []\n",
        "                net.eval()\n",
        "                for x, y in get_batches(val_data, batch_size, seq_length):\n",
        "                    # One-hot encode our data and make them Torch tensors\n",
        "                    x = one_hot_encode(x, n_chars)\n",
        "                    x, y = torch.from_numpy(x), torch.from_numpy(y)\n",
        "                    \n",
        "                    # Creating new variables for the hidden state, otherwise\n",
        "                    # we'd backprop through the entire training history\n",
        "                    val_h = tuple([each.data for each in val_h])\n",
        "                    \n",
        "                    inputs, targets = x, y\n",
        "                    if(train_on_gpu):\n",
        "                        inputs, targets = inputs.cuda(), targets.cuda()\n",
        "\n",
        "                    output, val_h = net(inputs, val_h)\n",
        "                    val_loss = criterion(output, targets.view(batch_size*seq_length).long())\n",
        "                \n",
        "                    val_losses.append(val_loss.item())\n",
        "                \n",
        "                net.train() # reset to train mode after iterationg through validation data\n",
        "                \n",
        "                print(\"Epoch: {}/{}...\".format(e+1, epochs),\n",
        "                      \"Step: {}...\".format(counter),\n",
        "                      \"Loss: {:.4f}...\".format(loss.item()),\n",
        "                      \"Val Loss: {:.4f}\".format(np.mean(val_losses)))\n",
        "                if np.mean(val_losses) <= valid_loss_min:\n",
        "                    print('Validation loss decreased ({:.6f} --> {:.6f}).  Saving model ...'.format(\n",
        "                    valid_loss_min,\n",
        "                    np.mean(val_losses)))\n",
        "                    torch.save(net.state_dict(), 'lovesonggen.pt')\n",
        "                    valid_loss_min = np.mean(val_losses)"
      ],
      "execution_count": 0,
      "outputs": []
    },
    {
      "cell_type": "markdown",
      "metadata": {
        "id": "IV3ofqX0bjqX",
        "colab_type": "text"
      },
      "source": [
        "## Instantiating the model\n",
        "\n",
        "Now we can actually train the network. First we'll create the network itself, with some given hyperparameters. Then, define the mini-batches sizes, and start training!"
      ]
    },
    {
      "cell_type": "code",
      "metadata": {
        "id": "e5b05CVEbjqY",
        "colab_type": "code",
        "colab": {
          "base_uri": "https://localhost:8080/",
          "height": 136
        },
        "outputId": "3f95488a-4eba-4416-e3b5-c2e9a8af1a23"
      },
      "source": [
        "## TODO: set your model hyperparameters\n",
        "# define and print the net\n",
        "# n_hidden=1024\n",
        "# n_layers=3\n",
        "# drop_probal = 0.4\n",
        "\n",
        "# net = CharRNN(chars, n_hidden, n_layers, drop_probal)\n",
        "net = CharRNN(chars)\n",
        "print(net)"
      ],
      "execution_count": 49,
      "outputs": [
        {
          "output_type": "stream",
          "text": [
            "CharRNN(\n",
            "  (dropout): Dropout(p=0.2, inplace=False)\n",
            "  (lstm): LSTM(99, 256, num_layers=3, batch_first=True, dropout=0.2)\n",
            "  (fc1): Linear(in_features=256, out_features=64, bias=True)\n",
            "  (fc2): Linear(in_features=64, out_features=128, bias=True)\n",
            "  (fc3): Linear(in_features=128, out_features=99, bias=True)\n",
            ")\n"
          ],
          "name": "stdout"
        }
      ]
    },
    {
      "cell_type": "markdown",
      "metadata": {
        "id": "5jS74cjCbjqc",
        "colab_type": "text"
      },
      "source": [
        "### Set your training hyperparameters!"
      ]
    },
    {
      "cell_type": "code",
      "metadata": {
        "scrolled": true,
        "id": "_vgcjeTgbjqd",
        "colab_type": "code",
        "colab": {
          "base_uri": "https://localhost:8080/",
          "height": 1000
        },
        "outputId": "2a27f8cb-ed62-4410-9951-6bd606f5cd37"
      },
      "source": [
        "batch_size = 64\n",
        "seq_length = 100\n",
        "n_epochs =  50\n",
        "\n",
        "# train the model\n",
        "train(net, encoded, epochs=n_epochs, batch_size=batch_size, seq_length=seq_length, lr=0.001, print_every=50)"
      ],
      "execution_count": 50,
      "outputs": [
        {
          "output_type": "stream",
          "text": [
            "Epoch: 1/50... Step: 50... Loss: 3.1578... Val Loss: 3.1978\n",
            "Validation loss decreased (inf --> 3.197803).  Saving model ...\n",
            "Epoch: 1/50... Step: 100... Loss: 3.1486... Val Loss: 3.1939\n",
            "Validation loss decreased (3.197803 --> 3.193946).  Saving model ...\n",
            "Epoch: 2/50... Step: 150... Loss: 3.1088... Val Loss: 3.1195\n",
            "Validation loss decreased (3.193946 --> 3.119450).  Saving model ...\n",
            "Epoch: 2/50... Step: 200... Loss: 2.9212... Val Loss: 2.9590\n",
            "Validation loss decreased (3.119450 --> 2.959004).  Saving model ...\n",
            "Epoch: 2/50... Step: 250... Loss: 2.7709... Val Loss: 2.8311\n",
            "Validation loss decreased (2.959004 --> 2.831123).  Saving model ...\n",
            "Epoch: 3/50... Step: 300... Loss: 2.6295... Val Loss: 2.7341\n",
            "Validation loss decreased (2.831123 --> 2.734075).  Saving model ...\n",
            "Epoch: 3/50... Step: 350... Loss: 2.5197... Val Loss: 2.6141\n",
            "Validation loss decreased (2.734075 --> 2.614072).  Saving model ...\n",
            "Epoch: 4/50... Step: 400... Loss: 2.3664... Val Loss: 2.5070\n",
            "Validation loss decreased (2.614072 --> 2.506951).  Saving model ...\n",
            "Epoch: 4/50... Step: 450... Loss: 2.3385... Val Loss: 2.4452\n",
            "Validation loss decreased (2.506951 --> 2.445226).  Saving model ...\n",
            "Epoch: 4/50... Step: 500... Loss: 2.2730... Val Loss: 2.3763\n",
            "Validation loss decreased (2.445226 --> 2.376312).  Saving model ...\n",
            "Epoch: 5/50... Step: 550... Loss: 2.1722... Val Loss: 2.3266\n",
            "Validation loss decreased (2.376312 --> 2.326635).  Saving model ...\n",
            "Epoch: 5/50... Step: 600... Loss: 2.1564... Val Loss: 2.2544\n",
            "Validation loss decreased (2.326635 --> 2.254365).  Saving model ...\n",
            "Epoch: 6/50... Step: 650... Loss: 2.0766... Val Loss: 2.2069\n",
            "Validation loss decreased (2.254365 --> 2.206862).  Saving model ...\n",
            "Epoch: 6/50... Step: 700... Loss: 2.0719... Val Loss: 2.1687\n",
            "Validation loss decreased (2.206862 --> 2.168667).  Saving model ...\n",
            "Epoch: 6/50... Step: 750... Loss: 1.9923... Val Loss: 2.1134\n",
            "Validation loss decreased (2.168667 --> 2.113426).  Saving model ...\n",
            "Epoch: 7/50... Step: 800... Loss: 1.9265... Val Loss: 2.0775\n",
            "Validation loss decreased (2.113426 --> 2.077541).  Saving model ...\n",
            "Epoch: 7/50... Step: 850... Loss: 1.8543... Val Loss: 2.0302\n",
            "Validation loss decreased (2.077541 --> 2.030155).  Saving model ...\n",
            "Epoch: 8/50... Step: 900... Loss: 1.8136... Val Loss: 1.9962\n",
            "Validation loss decreased (2.030155 --> 1.996237).  Saving model ...\n",
            "Epoch: 8/50... Step: 950... Loss: 1.8482... Val Loss: 1.9633\n",
            "Validation loss decreased (1.996237 --> 1.963328).  Saving model ...\n",
            "Epoch: 8/50... Step: 1000... Loss: 1.8062... Val Loss: 1.9292\n",
            "Validation loss decreased (1.963328 --> 1.929175).  Saving model ...\n",
            "Epoch: 9/50... Step: 1050... Loss: 1.7878... Val Loss: 1.9031\n",
            "Validation loss decreased (1.929175 --> 1.903086).  Saving model ...\n",
            "Epoch: 9/50... Step: 1100... Loss: 1.7485... Val Loss: 1.8655\n",
            "Validation loss decreased (1.903086 --> 1.865501).  Saving model ...\n",
            "Epoch: 10/50... Step: 1150... Loss: 1.6631... Val Loss: 1.8577\n",
            "Validation loss decreased (1.865501 --> 1.857744).  Saving model ...\n",
            "Epoch: 10/50... Step: 1200... Loss: 1.6889... Val Loss: 1.8305\n",
            "Validation loss decreased (1.857744 --> 1.830520).  Saving model ...\n",
            "Epoch: 10/50... Step: 1250... Loss: 1.6795... Val Loss: 1.8019\n",
            "Validation loss decreased (1.830520 --> 1.801892).  Saving model ...\n",
            "Epoch: 11/50... Step: 1300... Loss: 1.6303... Val Loss: 1.7976\n",
            "Validation loss decreased (1.801892 --> 1.797642).  Saving model ...\n",
            "Epoch: 11/50... Step: 1350... Loss: 1.5991... Val Loss: 1.7675\n",
            "Validation loss decreased (1.797642 --> 1.767485).  Saving model ...\n",
            "Epoch: 12/50... Step: 1400... Loss: 1.5831... Val Loss: 1.7526\n",
            "Validation loss decreased (1.767485 --> 1.752627).  Saving model ...\n",
            "Epoch: 12/50... Step: 1450... Loss: 1.6162... Val Loss: 1.7387\n",
            "Validation loss decreased (1.752627 --> 1.738724).  Saving model ...\n",
            "Epoch: 12/50... Step: 1500... Loss: 1.5475... Val Loss: 1.7216\n",
            "Validation loss decreased (1.738724 --> 1.721644).  Saving model ...\n",
            "Epoch: 13/50... Step: 1550... Loss: 1.5302... Val Loss: 1.7159\n",
            "Validation loss decreased (1.721644 --> 1.715921).  Saving model ...\n",
            "Epoch: 13/50... Step: 1600... Loss: 1.5460... Val Loss: 1.6922\n",
            "Validation loss decreased (1.715921 --> 1.692235).  Saving model ...\n",
            "Epoch: 14/50... Step: 1650... Loss: 1.5457... Val Loss: 1.6825\n",
            "Validation loss decreased (1.692235 --> 1.682460).  Saving model ...\n",
            "Epoch: 14/50... Step: 1700... Loss: 1.4785... Val Loss: 1.6849\n",
            "Epoch: 14/50... Step: 1750... Loss: 1.4968... Val Loss: 1.6667\n",
            "Validation loss decreased (1.682460 --> 1.666722).  Saving model ...\n",
            "Epoch: 15/50... Step: 1800... Loss: 1.4545... Val Loss: 1.6616\n",
            "Validation loss decreased (1.666722 --> 1.661636).  Saving model ...\n",
            "Epoch: 15/50... Step: 1850... Loss: 1.5275... Val Loss: 1.6455\n",
            "Validation loss decreased (1.661636 --> 1.645539).  Saving model ...\n",
            "Epoch: 16/50... Step: 1900... Loss: 1.4454... Val Loss: 1.6420\n",
            "Validation loss decreased (1.645539 --> 1.642041).  Saving model ...\n",
            "Epoch: 16/50... Step: 1950... Loss: 1.4356... Val Loss: 1.6340\n",
            "Validation loss decreased (1.642041 --> 1.633997).  Saving model ...\n",
            "Epoch: 16/50... Step: 2000... Loss: 1.4526... Val Loss: 1.6274\n",
            "Validation loss decreased (1.633997 --> 1.627398).  Saving model ...\n",
            "Epoch: 17/50... Step: 2050... Loss: 1.3767... Val Loss: 1.6294\n",
            "Epoch: 17/50... Step: 2100... Loss: 1.3840... Val Loss: 1.6090\n",
            "Validation loss decreased (1.627398 --> 1.608982).  Saving model ...\n",
            "Epoch: 18/50... Step: 2150... Loss: 1.4339... Val Loss: 1.6088\n",
            "Validation loss decreased (1.608982 --> 1.608751).  Saving model ...\n",
            "Epoch: 18/50... Step: 2200... Loss: 1.3969... Val Loss: 1.6156\n",
            "Epoch: 18/50... Step: 2250... Loss: 1.3784... Val Loss: 1.5949\n",
            "Validation loss decreased (1.608751 --> 1.594899).  Saving model ...\n",
            "Epoch: 19/50... Step: 2300... Loss: 1.3456... Val Loss: 1.5947\n",
            "Validation loss decreased (1.594899 --> 1.594651).  Saving model ...\n",
            "Epoch: 19/50... Step: 2350... Loss: 1.3462... Val Loss: 1.5886\n",
            "Validation loss decreased (1.594651 --> 1.588623).  Saving model ...\n",
            "Epoch: 20/50... Step: 2400... Loss: 1.3415... Val Loss: 1.5795\n",
            "Validation loss decreased (1.588623 --> 1.579480).  Saving model ...\n",
            "Epoch: 20/50... Step: 2450... Loss: 1.3699... Val Loss: 1.5790\n",
            "Validation loss decreased (1.579480 --> 1.578977).  Saving model ...\n",
            "Epoch: 20/50... Step: 2500... Loss: 1.3782... Val Loss: 1.5745\n",
            "Validation loss decreased (1.578977 --> 1.574521).  Saving model ...\n",
            "Epoch: 21/50... Step: 2550... Loss: 1.2979... Val Loss: 1.5755\n",
            "Epoch: 21/50... Step: 2600... Loss: 1.3472... Val Loss: 1.5643\n",
            "Validation loss decreased (1.574521 --> 1.564258).  Saving model ...\n",
            "Epoch: 22/50... Step: 2650... Loss: 1.3396... Val Loss: 1.5609\n",
            "Validation loss decreased (1.564258 --> 1.560900).  Saving model ...\n",
            "Epoch: 22/50... Step: 2700... Loss: 1.3314... Val Loss: 1.5574\n",
            "Validation loss decreased (1.560900 --> 1.557392).  Saving model ...\n",
            "Epoch: 22/50... Step: 2750... Loss: 1.3683... Val Loss: 1.5614\n",
            "Epoch: 23/50... Step: 2800... Loss: 1.3018... Val Loss: 1.5514\n",
            "Validation loss decreased (1.557392 --> 1.551446).  Saving model ...\n",
            "Epoch: 23/50... Step: 2850... Loss: 1.3348... Val Loss: 1.5502\n",
            "Validation loss decreased (1.551446 --> 1.550231).  Saving model ...\n",
            "Epoch: 24/50... Step: 2900... Loss: 1.3629... Val Loss: 1.5445\n",
            "Validation loss decreased (1.550231 --> 1.544450).  Saving model ...\n",
            "Epoch: 24/50... Step: 2950... Loss: 1.2614... Val Loss: 1.5440\n",
            "Validation loss decreased (1.544450 --> 1.544019).  Saving model ...\n",
            "Epoch: 24/50... Step: 3000... Loss: 1.2534... Val Loss: 1.5468\n",
            "Epoch: 25/50... Step: 3050... Loss: 1.2299... Val Loss: 1.5354\n",
            "Validation loss decreased (1.544019 --> 1.535409).  Saving model ...\n",
            "Epoch: 25/50... Step: 3100... Loss: 1.2633... Val Loss: 1.5380\n",
            "Epoch: 25/50... Step: 3150... Loss: 1.2731... Val Loss: 1.5376\n",
            "Epoch: 26/50... Step: 3200... Loss: 1.2346... Val Loss: 1.5456\n",
            "Epoch: 26/50... Step: 3250... Loss: 1.2530... Val Loss: 1.5282\n",
            "Validation loss decreased (1.535409 --> 1.528211).  Saving model ...\n",
            "Epoch: 27/50... Step: 3300... Loss: 1.2412... Val Loss: 1.5253\n",
            "Validation loss decreased (1.528211 --> 1.525339).  Saving model ...\n",
            "Epoch: 27/50... Step: 3350... Loss: 1.2252... Val Loss: 1.5233\n",
            "Validation loss decreased (1.525339 --> 1.523283).  Saving model ...\n",
            "Epoch: 27/50... Step: 3400... Loss: 1.2418... Val Loss: 1.5209\n",
            "Validation loss decreased (1.523283 --> 1.520924).  Saving model ...\n",
            "Epoch: 28/50... Step: 3450... Loss: 1.2599... Val Loss: 1.5230\n",
            "Epoch: 28/50... Step: 3500... Loss: 1.2279... Val Loss: 1.5152\n",
            "Validation loss decreased (1.520924 --> 1.515196).  Saving model ...\n",
            "Epoch: 29/50... Step: 3550... Loss: 1.1571... Val Loss: 1.5291\n",
            "Epoch: 29/50... Step: 3600... Loss: 1.2272... Val Loss: 1.5222\n",
            "Epoch: 29/50... Step: 3650... Loss: 1.1765... Val Loss: 1.5300\n",
            "Epoch: 30/50... Step: 3700... Loss: 1.1731... Val Loss: 1.5229\n",
            "Epoch: 30/50... Step: 3750... Loss: 1.1815... Val Loss: 1.5140\n",
            "Validation loss decreased (1.515196 --> 1.513997).  Saving model ...\n",
            "Epoch: 31/50... Step: 3800... Loss: 1.1250... Val Loss: 1.5208\n",
            "Epoch: 31/50... Step: 3850... Loss: 1.1741... Val Loss: 1.5216\n",
            "Epoch: 31/50... Step: 3900... Loss: 1.1409... Val Loss: 1.5153\n",
            "Epoch: 32/50... Step: 3950... Loss: 1.1644... Val Loss: 1.5174\n",
            "Epoch: 32/50... Step: 4000... Loss: 1.1706... Val Loss: 1.5091\n",
            "Validation loss decreased (1.513997 --> 1.509096).  Saving model ...\n",
            "Epoch: 33/50... Step: 4050... Loss: 1.0570... Val Loss: 1.5193\n",
            "Epoch: 33/50... Step: 4100... Loss: 1.1376... Val Loss: 1.5172\n",
            "Epoch: 33/50... Step: 4150... Loss: 1.1565... Val Loss: 1.5102\n",
            "Epoch: 34/50... Step: 4200... Loss: 1.1437... Val Loss: 1.5194\n",
            "Epoch: 34/50... Step: 4250... Loss: 1.1991... Val Loss: 1.5022\n",
            "Validation loss decreased (1.509096 --> 1.502184).  Saving model ...\n",
            "Epoch: 35/50... Step: 4300... Loss: 1.0802... Val Loss: 1.5201\n",
            "Epoch: 35/50... Step: 4350... Loss: 1.1292... Val Loss: 1.5188\n",
            "Epoch: 35/50... Step: 4400... Loss: 1.1385... Val Loss: 1.5198\n",
            "Epoch: 36/50... Step: 4450... Loss: 1.1081... Val Loss: 1.5244\n",
            "Epoch: 36/50... Step: 4500... Loss: 1.1379... Val Loss: 1.5057\n",
            "Epoch: 37/50... Step: 4550... Loss: 1.0755... Val Loss: 1.5143\n",
            "Epoch: 37/50... Step: 4600... Loss: 1.1384... Val Loss: 1.5476\n",
            "Epoch: 37/50... Step: 4650... Loss: 1.1059... Val Loss: 1.5159\n",
            "Epoch: 38/50... Step: 4700... Loss: 1.0685... Val Loss: 1.5310\n",
            "Epoch: 38/50... Step: 4750... Loss: 1.1108... Val Loss: 1.5083\n",
            "Epoch: 39/50... Step: 4800... Loss: 1.0967... Val Loss: 1.5190\n",
            "Epoch: 39/50... Step: 4850... Loss: 1.0370... Val Loss: 1.5647\n",
            "Epoch: 39/50... Step: 4900... Loss: 1.1082... Val Loss: 1.5143\n",
            "Epoch: 40/50... Step: 4950... Loss: 1.0400... Val Loss: 1.5288\n",
            "Epoch: 40/50... Step: 5000... Loss: 1.0975... Val Loss: 1.5153\n",
            "Epoch: 41/50... Step: 5050... Loss: 1.0778... Val Loss: 1.5177\n",
            "Epoch: 41/50... Step: 5100... Loss: 1.0713... Val Loss: 1.5231\n",
            "Epoch: 41/50... Step: 5150... Loss: 1.0627... Val Loss: 1.5119\n",
            "Epoch: 42/50... Step: 5200... Loss: 1.0157... Val Loss: 1.5303\n",
            "Epoch: 42/50... Step: 5250... Loss: 1.1045... Val Loss: 1.5250\n",
            "Epoch: 43/50... Step: 5300... Loss: 1.1255... Val Loss: 1.5292\n",
            "Epoch: 43/50... Step: 5350... Loss: 1.0719... Val Loss: 1.5244\n",
            "Epoch: 43/50... Step: 5400... Loss: 1.0581... Val Loss: 1.5162\n",
            "Epoch: 44/50... Step: 5450... Loss: 1.0429... Val Loss: 1.5149\n",
            "Epoch: 44/50... Step: 5500... Loss: 1.0406... Val Loss: 1.5256\n",
            "Epoch: 45/50... Step: 5550... Loss: 1.0643... Val Loss: 1.5216\n",
            "Epoch: 45/50... Step: 5600... Loss: 1.0816... Val Loss: 1.5281\n",
            "Epoch: 45/50... Step: 5650... Loss: 1.0647... Val Loss: 1.5208\n",
            "Epoch: 46/50... Step: 5700... Loss: 0.9997... Val Loss: 1.5194\n",
            "Epoch: 46/50... Step: 5750... Loss: 1.0760... Val Loss: 1.5220\n",
            "Epoch: 47/50... Step: 5800... Loss: 1.0502... Val Loss: 1.5205\n",
            "Epoch: 47/50... Step: 5850... Loss: 1.0450... Val Loss: 1.5265\n",
            "Epoch: 47/50... Step: 5900... Loss: 1.0654... Val Loss: 1.5183\n",
            "Epoch: 48/50... Step: 5950... Loss: 1.0144... Val Loss: 1.5221\n",
            "Epoch: 48/50... Step: 6000... Loss: 1.0742... Val Loss: 1.5303\n",
            "Epoch: 49/50... Step: 6050... Loss: 1.0849... Val Loss: 1.5263\n",
            "Epoch: 49/50... Step: 6100... Loss: 1.0069... Val Loss: 1.5321\n",
            "Epoch: 49/50... Step: 6150... Loss: 0.9711... Val Loss: 1.5245\n",
            "Epoch: 50/50... Step: 6200... Loss: 0.9607... Val Loss: 1.5305\n",
            "Epoch: 50/50... Step: 6250... Loss: 1.0113... Val Loss: 1.5328\n",
            "Epoch: 50/50... Step: 6300... Loss: 1.0247... Val Loss: 1.5311\n"
          ],
          "name": "stdout"
        }
      ]
    },
    {
      "cell_type": "markdown",
      "metadata": {
        "id": "iDLxMoJ-bjqh",
        "colab_type": "text"
      },
      "source": [
        "## Getting the best model\n",
        "\n",
        "To set your hyperparameters to get the best performance, you'll want to watch the training and validation losses. If your training loss is much lower than the validation loss, you're overfitting. Increase regularization (more dropout) or use a smaller network. If the training and validation losses are close, you're underfitting so you can increase the size of the network."
      ]
    },
    {
      "cell_type": "markdown",
      "metadata": {
        "id": "MNhm_ZGCbjqi",
        "colab_type": "text"
      },
      "source": [
        "## Hyperparameters\n",
        "\n",
        "Here are the hyperparameters for the network.\n",
        "\n",
        "In defining the model:\n",
        "* `n_hidden` - The number of units in the hidden layers.\n",
        "* `n_layers` - Number of hidden LSTM layers to use.\n",
        "\n",
        "We assume that dropout probability and learning rate will be kept at the default, in this example.\n",
        "\n",
        "And in training:\n",
        "* `batch_size` - Number of sequences running through the network in one pass.\n",
        "* `seq_length` - Number of characters in the sequence the network is trained on. Larger is better typically, the network will learn more long range dependencies. But it takes longer to train. 100 is typically a good number here.\n",
        "* `lr` - Learning rate for training\n",
        "\n",
        "Here's some good advice from Andrej Karpathy on training the network. I'm going to copy it in here for your benefit, but also link to [where it originally came from](https://github.com/karpathy/char-rnn#tips-and-tricks).\n",
        "\n",
        "> ## Tips and Tricks\n",
        "\n",
        ">### Monitoring Validation Loss vs. Training Loss\n",
        ">If you're somewhat new to Machine Learning or Neural Networks it can take a bit of expertise to get good models. The most important quantity to keep track of is the difference between your training loss (printed during training) and the validation loss (printed once in a while when the RNN is run on the validation data (by default every 1000 iterations)). In particular:\n",
        "\n",
        "> - If your training loss is much lower than validation loss then this means the network might be **overfitting**. Solutions to this are to decrease your network size, or to increase dropout. For example you could try dropout of 0.5 and so on.\n",
        "> - If your training/validation loss are about equal then your model is **underfitting**. Increase the size of your model (either number of layers or the raw number of neurons per layer)\n",
        "\n",
        "> ### Approximate number of parameters\n",
        "\n",
        "> The two most important parameters that control the model are `n_hidden` and `n_layers`. I would advise that you always use `n_layers` of either 2/3. The `n_hidden` can be adjusted based on how much data you have. The two important quantities to keep track of here are:\n",
        "\n",
        "> - The number of parameters in your model. This is printed when you start training.\n",
        "> - The size of your dataset. 1MB file is approximately 1 million characters.\n",
        "\n",
        ">These two should be about the same order of magnitude. It's a little tricky to tell. Here are some examples:\n",
        "\n",
        "> - I have a 100MB dataset and I'm using the default parameter settings (which currently print 150K parameters). My data size is significantly larger (100 mil >> 0.15 mil), so I expect to heavily underfit. I am thinking I can comfortably afford to make `n_hidden` larger.\n",
        "> - I have a 10MB dataset and running a 10 million parameter model. I'm slightly nervous and I'm carefully monitoring my validation loss. If it's larger than my training loss then I may want to try to increase dropout a bit and see if that helps the validation loss.\n",
        "\n",
        "> ### Best models strategy\n",
        "\n",
        ">The winning strategy to obtaining very good models (if you have the compute time) is to always err on making the network larger (as large as you're willing to wait for it to compute) and then try different dropout values (between 0,1). Whatever model has the best validation performance (the loss, written in the checkpoint filename, low is good) is the one you should use in the end.\n",
        "\n",
        ">It is very common in deep learning to run many different models with many different hyperparameter settings, and in the end take whatever checkpoint gave the best validation performance.\n",
        "\n",
        ">By the way, the size of your training and validation splits are also parameters. Make sure you have a decent amount of data in your validation set or otherwise the validation performance will be noisy and not very informative."
      ]
    },
    {
      "cell_type": "markdown",
      "metadata": {
        "id": "qGwhS-rdbjqj",
        "colab_type": "text"
      },
      "source": [
        "## Checkpoint\n",
        "\n",
        "After training, we'll save the model so we can load it again later if we need too. Here I'm saving the parameters needed to create the same architecture, the hidden layer hyperparameters and the text characters."
      ]
    },
    {
      "cell_type": "code",
      "metadata": {
        "id": "CTVehMYAbjqk",
        "colab_type": "code",
        "colab": {}
      },
      "source": [
        "# change the name, for saving multiple files\n",
        "model_name = 'rnn_x_epoch.net'\n",
        "\n",
        "checkpoint = {'n_hidden': net.n_hidden,\n",
        "              'n_layers': net.n_layers,\n",
        "              'state_dict': net.state_dict(),\n",
        "              'tokens': net.chars}\n",
        "\n",
        "with open(model_name, 'wb') as f:\n",
        "    torch.save(checkpoint, f)"
      ],
      "execution_count": 0,
      "outputs": []
    },
    {
      "cell_type": "markdown",
      "metadata": {
        "id": "bJcmn3Rcbjqn",
        "colab_type": "text"
      },
      "source": [
        "---\n",
        "## Making Predictions\n",
        "\n",
        "Now that the model is trained, we'll want to sample from it and make predictions about next characters! To sample, we pass in a character and have the network predict the next character. Then we take that character, pass it back in, and get another predicted character. Just keep doing this and you'll generate a bunch of text!\n",
        "\n",
        "### A note on the `predict`  function\n",
        "\n",
        "The output of our RNN is from a fully-connected layer and it outputs a **distribution of next-character scores**.\n",
        "\n",
        "> To actually get the next character, we apply a softmax function, which gives us a *probability* distribution that we can then sample to predict the next character.\n",
        "\n",
        "### Top K sampling\n",
        "\n",
        "Our predictions come from a categorical probability distribution over all the possible characters. We can make the sample text and make it more reasonable to handle (with less variables) by only considering some $K$ most probable characters. This will prevent the network from giving us completely absurd characters while allowing it to introduce some noise and randomness into the sampled text. Read more about [topk, here](https://pytorch.org/docs/stable/torch.html#torch.topk).\n"
      ]
    },
    {
      "cell_type": "code",
      "metadata": {
        "id": "piQE6qqObjqp",
        "colab_type": "code",
        "colab": {}
      },
      "source": [
        "def predict(net, char, h=None, top_k=None):\n",
        "        ''' Given a character, predict the next character.\n",
        "            Returns the predicted character and the hidden state.\n",
        "        '''\n",
        "        \n",
        "        # tensor inputs\n",
        "        x = np.array([[net.char2int[char]]])\n",
        "        x = one_hot_encode(x, len(net.chars))\n",
        "        inputs = torch.from_numpy(x)\n",
        "        \n",
        "        if(train_on_gpu):\n",
        "            inputs = inputs.cuda()\n",
        "        \n",
        "        # detach hidden state from history\n",
        "        h = tuple([each.data for each in h])\n",
        "        # get the output of the model\n",
        "        out, h = net(inputs, h)\n",
        "\n",
        "        # get the character probabilities\n",
        "        p = F.softmax(out, dim=1).data\n",
        "        if(train_on_gpu):\n",
        "            p = p.cpu() # move to cpu\n",
        "        \n",
        "        # get top characters\n",
        "        if top_k is None:\n",
        "            top_ch = np.arange(len(net.chars))\n",
        "        else:\n",
        "            p, top_ch = p.topk(top_k)\n",
        "            top_ch = top_ch.numpy().squeeze()\n",
        "        \n",
        "        # select the likely next character with some element of randomness\n",
        "        p = p.numpy().squeeze()\n",
        "        char = np.random.choice(top_ch, p=p/p.sum())\n",
        "        \n",
        "        # return the encoded value of the predicted char and the hidden state\n",
        "        return net.int2char[char], h"
      ],
      "execution_count": 0,
      "outputs": []
    },
    {
      "cell_type": "markdown",
      "metadata": {
        "id": "MxhAsuTvbjqt",
        "colab_type": "text"
      },
      "source": [
        "### Priming and generating text \n",
        "\n",
        "Typically you'll want to prime the network so you can build up a hidden state. Otherwise the network will start out generating characters at random. In general the first bunch of characters will be a little rough since it hasn't built up a long history of characters to predict from."
      ]
    },
    {
      "cell_type": "code",
      "metadata": {
        "id": "8hGTRdS6bjqu",
        "colab_type": "code",
        "colab": {}
      },
      "source": [
        "def sample(net, size, prime='The', top_k=None):\n",
        "        \n",
        "    if(train_on_gpu):\n",
        "        net.cuda()\n",
        "    else:\n",
        "        net.cpu()\n",
        "    \n",
        "    net.eval() # eval mode\n",
        "    \n",
        "    # First off, run through the prime characters\n",
        "    chars = [ch for ch in prime]\n",
        "    h = net.init_hidden(1)\n",
        "    for ch in prime:\n",
        "        char, h = predict(net, ch, h, top_k=top_k)\n",
        "\n",
        "    chars.append(char)\n",
        "    \n",
        "    # Now pass in the previous character and get a new one\n",
        "    for ii in range(size):\n",
        "        char, h = predict(net, chars[-1], h, top_k=top_k)\n",
        "        chars.append(char)\n",
        "\n",
        "    return ''.join(chars)"
      ],
      "execution_count": 0,
      "outputs": []
    },
    {
      "cell_type": "code",
      "metadata": {
        "id": "pdVFhshKlIYU",
        "colab_type": "code",
        "colab": {
          "base_uri": "https://localhost:8080/",
          "height": 34
        },
        "outputId": "92fced91-620e-4db4-a576-5f7edeb6b7db"
      },
      "source": [
        "net.load_state_dict(torch.load('lovesonggen.pt'))"
      ],
      "execution_count": 51,
      "outputs": [
        {
          "output_type": "execute_result",
          "data": {
            "text/plain": [
              "<All keys matched successfully>"
            ]
          },
          "metadata": {
            "tags": []
          },
          "execution_count": 51
        }
      ]
    },
    {
      "cell_type": "code",
      "metadata": {
        "id": "H8dohNeabjqx",
        "colab_type": "code",
        "colab": {
          "base_uri": "https://localhost:8080/",
          "height": 544
        },
        "outputId": "86f558b9-4431-43b8-f683-fa62ae2705ba"
      },
      "source": [
        "print(sample(net, 900, prime='You', top_k=5))"
      ],
      "execution_count": 54,
      "outputs": [
        {
          "output_type": "stream",
          "text": [
            "You baby\n",
            "Till I love you, I don't know why\n",
            "I'm a memory to than I say\n",
            "This to be the same\n",
            "\n",
            "And we can show me that woman where you love\n",
            "Your love won't ask a with\n",
            "Its better betweer through the sendention\n",
            "There's no one so baby when you love me to me you will love you\n",
            "To me you will sleep to you\n",
            "I will never be the way that is that I will, \n",
            "The truth it's not on the sorg\n",
            "And the love I should be all the same\n",
            "I will do\n",
            "And you were to say to\n",
            "I look one more night we'll leave a little turned\n",
            "And tonight will trust you\n",
            "When I look at my heart, and you feel the way you love\n",
            "Your love, your love, \n",
            "\n",
            "Your mestliensich\n",
            "As long the world on the doorway\n",
            "That's a love in my heart\n",
            "That I can't believe this\n",
            "I love it of your love\n",
            "I'll let you belong to you \n",
            "I'm gonna win through it wishing\n",
            "I wanna keep up, I know you're the one I want for loving you \n",
            "\n",
            "A love like you bring through the broken soul \n",
            "I can \n"
          ],
          "name": "stdout"
        }
      ]
    },
    {
      "cell_type": "markdown",
      "metadata": {
        "id": "1y4XQ0bObjq2",
        "colab_type": "text"
      },
      "source": [
        "## Loading a checkpoint"
      ]
    },
    {
      "cell_type": "code",
      "metadata": {
        "id": "QSls8JI_bjq3",
        "colab_type": "code",
        "colab": {},
        "outputId": "906e87f5-28a8-4317-cf82-5a82c83dad40"
      },
      "source": [
        "# Here we have loaded in a model that trained over 20 epochs `rnn_20_epoch.net`\n",
        "with open('rnn_x_epoch.net', 'rb') as f:\n",
        "    checkpoint = torch.load(f)\n",
        "    \n",
        "loaded = CharRNN(checkpoint['tokens'], n_hidden=checkpoint['n_hidden'], n_layers=checkpoint['n_layers'])\n",
        "loaded.load_state_dict(checkpoint['state_dict'])"
      ],
      "execution_count": 0,
      "outputs": [
        {
          "output_type": "execute_result",
          "data": {
            "text/plain": [
              "<All keys matched successfully>"
            ]
          },
          "metadata": {
            "tags": []
          },
          "execution_count": 31
        }
      ]
    },
    {
      "cell_type": "code",
      "metadata": {
        "id": "u6eUMFcPbjq7",
        "colab_type": "code",
        "colab": {},
        "outputId": "618f7ded-1a27-435a-b60b-9bcde211d7ab"
      },
      "source": [
        "# Sample using a loaded model\n",
        "print(sample(loaded, 2000, top_k=5, prime=\"And Levin said\"))"
      ],
      "execution_count": 0,
      "outputs": [
        {
          "output_type": "stream",
          "text": [
            "And Levin said than thoigh one\n",
            "can has husband to be see a service and a smile. But why had taken to the pass.\n",
            "\n",
            "\"I've delightly and a son and secrone, and they shall say to my back. I'm\n",
            "been my proved, there was now to bo done her to the contriracious when the mester to home her to see the\n",
            "princess\n",
            "of his water with his hands.\"\n",
            "\n",
            "\"That's the might the studies, and that you know it's something thinks is that\n",
            "you must,\" said Varenka, then she had asking hel and his folly.\n",
            "\n",
            "This\n",
            "provence were no lawer, and was a sees, took it teering to serious and and to the same. At the shooth, but at it to be cartiage,\n",
            "but his blead on the challing at the short in the world to her husbind, and servonced and the moment in this. And he was nothing in the constare of\n",
            "this sister, was a strange of the performan which she was the set a suppression, and went out abait his same of\n",
            "answer that he had that the whole or the choodes and\n",
            "streath to\n",
            "her all, to set on when he seemed in the surden of all this.\n",
            "\n",
            "\"You do you think, but the sholl, should be so in it, and think to be, that's a live...\" he said; shotting a subjett of the\n",
            "children servinced had been her something and that some tell and he could not started his hand. How he had so saying his hand.\n",
            "\n",
            "He was the sensation of which he had been to distaid, that she was a decoition and the came too he should don't have to be streathening and to be, he\n",
            "had been to see\n",
            "and setting\n",
            "at all heart, bus that the count as this stowing\n",
            "was at our deceition of horses\n",
            "on what had been began to his say into his hot before the sharm of his hand with what was an old son out and was so at the country,\n",
            "though the care wait an old part out of the compropitions or stopmed as his works of a peisars of the suppecious to this women. He had talking of her house to the suppressial strend in his\n",
            "possib and was, who went up to a concepation on\n",
            "the count to see this cleasans of the provertess, and with his fored as it said that she was that he would brought a little wife's letter, an\n"
          ],
          "name": "stdout"
        }
      ]
    },
    {
      "cell_type": "code",
      "metadata": {
        "id": "Cp-l5Y8Zbjq_",
        "colab_type": "code",
        "colab": {}
      },
      "source": [
        ""
      ],
      "execution_count": 0,
      "outputs": []
    }
  ]
}